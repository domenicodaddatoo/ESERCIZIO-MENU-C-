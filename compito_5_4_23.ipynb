{
  "nbformat": 4,
  "nbformat_minor": 0,
  "metadata": {
    "colab": {
      "provenance": [],
      "authorship_tag": "ABX9TyOs9f/RMk7A/yDF/LEc6tvn",
      "include_colab_link": true
    },
    "kernelspec": {
      "name": "python3",
      "display_name": "Python 3"
    },
    "language_info": {
      "name": "python"
    }
  },
  "cells": [
    {
      "cell_type": "markdown",
      "metadata": {
        "id": "view-in-github",
        "colab_type": "text"
      },
      "source": [
        "<a href=\"https://colab.research.google.com/github/domenicodaddatoo/INFORMATICA/blob/main/compito_5_4_23.ipynb\" target=\"_parent\"><img src=\"https://colab.research.google.com/assets/colab-badge.svg\" alt=\"Open In Colab\"/></a>"
      ]
    },
    {
      "cell_type": "code",
      "execution_count": null,
      "metadata": {
        "colab": {
          "base_uri": "https://localhost:8080/",
          "height": 712
        },
        "id": "GhhZc4Lh7W4j",
        "outputId": "71028dbd-df08-4fa8-96c9-0cfdcfd8d324"
      },
      "outputs": [
        {
          "output_type": "stream",
          "name": "stdout",
          "text": [
            "Looking in indexes: https://pypi.org/simple, https://us-python.pkg.dev/colab-wheels/public/simple/\n",
            "Collecting ColabTurtle\n",
            "  Downloading ColabTurtle-2.1.0.tar.gz (6.8 kB)\n",
            "  Preparing metadata (setup.py) ... \u001b[?25l\u001b[?25hdone\n",
            "Building wheels for collected packages: ColabTurtle\n",
            "  Building wheel for ColabTurtle (setup.py) ... \u001b[?25l\u001b[?25hdone\n",
            "  Created wheel for ColabTurtle: filename=ColabTurtle-2.1.0-py3-none-any.whl size=7656 sha256=1f16c10e54ffc020df9b6e36df5c161a81d8b74f5a3230565282f0c57991ede3\n",
            "  Stored in directory: /root/.cache/pip/wheels/a8/ab/ce/4aca5e858d2561104f45e6164390067231381836678b908064\n",
            "Successfully built ColabTurtle\n",
            "Installing collected packages: ColabTurtle\n",
            "Successfully installed ColabTurtle-2.1.0\n"
          ]
        },
        {
          "output_type": "display_data",
          "data": {
            "text/plain": [
              "<IPython.core.display.HTML object>"
            ],
            "text/html": [
              "\n",
              "      <svg width=\"800\" height=\"500\">\n",
              "        <rect width=\"100%\" height=\"100%\" fill=\"black\"/>\n",
              "        \n",
              "        <g visibility=visible transform=\"rotate(360,400,250) translate(382, 232)\">\n",
              "<path style=\" stroke:none;fill-rule:evenodd;fill:white;fill-opacity:1;\" d=\"M 18.214844 0.632812 C 16.109375 1.800781 15.011719 4.074219 15.074219 7.132812 L 15.085938 7.652344 L 14.785156 7.496094 C 13.476562 6.824219 11.957031 6.671875 10.40625 7.066406 C 8.46875 7.550781 6.515625 9.15625 4.394531 11.992188 C 3.0625 13.777344 2.679688 14.636719 3.042969 15.027344 L 3.15625 15.152344 L 3.519531 15.152344 C 4.238281 15.152344 4.828125 14.886719 8.1875 13.039062 C 9.386719 12.378906 10.371094 11.839844 10.378906 11.839844 C 10.386719 11.839844 10.355469 11.929688 10.304688 12.035156 C 9.832031 13.09375 9.257812 14.820312 8.96875 16.078125 C 7.914062 20.652344 8.617188 24.53125 11.070312 27.660156 C 11.351562 28.015625 11.363281 27.914062 10.972656 28.382812 C 8.925781 30.84375 7.945312 33.28125 8.238281 35.1875 C 8.289062 35.527344 8.28125 35.523438 8.917969 35.523438 C 10.941406 35.523438 13.074219 34.207031 15.136719 31.6875 C 15.359375 31.417969 15.328125 31.425781 15.5625 31.574219 C 16.292969 32.042969 18.023438 32.964844 18.175781 32.964844 C 18.335938 32.964844 19.941406 32.210938 20.828125 31.71875 C 20.996094 31.625 21.136719 31.554688 21.136719 31.558594 C 21.203125 31.664062 21.898438 32.414062 22.222656 32.730469 C 23.835938 34.300781 25.5625 35.132812 27.582031 35.300781 C 27.90625 35.328125 27.9375 35.308594 28.007812 34.984375 C 28.382812 33.242188 27.625 30.925781 25.863281 28.425781 L 25.542969 27.96875 L 25.699219 27.785156 C 28.945312 23.960938 29.132812 18.699219 26.257812 11.96875 L 26.207031 11.84375 L 27.945312 12.703125 C 31.53125 14.476562 32.316406 14.800781 33.03125 14.800781 C 33.976562 14.800781 33.78125 13.9375 32.472656 12.292969 C 28.519531 7.355469 25.394531 5.925781 21.921875 7.472656 L 21.558594 7.636719 L 21.578125 7.542969 C 21.699219 6.992188 21.761719 5.742188 21.699219 5.164062 C 21.496094 3.296875 20.664062 1.964844 19.003906 0.855469 C 18.480469 0.503906 18.457031 0.5 18.214844 0.632812\"/>\n",
              "</g>\n",
              "      </svg>\n",
              "    "
            ]
          },
          "metadata": {}
        }
      ],
      "source": [
        "!pip3 install ColabTurtle\n",
        "from ColabTurtle.Turtle import *\n",
        "initializeTurtle()\n"
      ]
    },
    {
      "cell_type": "code",
      "source": [
        "initializeTurtle()"
      ],
      "metadata": {
        "colab": {
          "base_uri": "https://localhost:8080/",
          "height": 521
        },
        "id": "maKFkFrM7oas",
        "outputId": "5fac7847-f38e-4776-f8c3-26bf84ca7431"
      },
      "execution_count": null,
      "outputs": [
        {
          "output_type": "display_data",
          "data": {
            "text/plain": [
              "<IPython.core.display.HTML object>"
            ],
            "text/html": [
              "\n",
              "      <svg width=\"800\" height=\"500\">\n",
              "        <rect width=\"100%\" height=\"100%\" fill=\"black\"/>\n",
              "        \n",
              "        <g visibility=visible transform=\"rotate(360,400,250) translate(382, 232)\">\n",
              "<path style=\" stroke:none;fill-rule:evenodd;fill:white;fill-opacity:1;\" d=\"M 18.214844 0.632812 C 16.109375 1.800781 15.011719 4.074219 15.074219 7.132812 L 15.085938 7.652344 L 14.785156 7.496094 C 13.476562 6.824219 11.957031 6.671875 10.40625 7.066406 C 8.46875 7.550781 6.515625 9.15625 4.394531 11.992188 C 3.0625 13.777344 2.679688 14.636719 3.042969 15.027344 L 3.15625 15.152344 L 3.519531 15.152344 C 4.238281 15.152344 4.828125 14.886719 8.1875 13.039062 C 9.386719 12.378906 10.371094 11.839844 10.378906 11.839844 C 10.386719 11.839844 10.355469 11.929688 10.304688 12.035156 C 9.832031 13.09375 9.257812 14.820312 8.96875 16.078125 C 7.914062 20.652344 8.617188 24.53125 11.070312 27.660156 C 11.351562 28.015625 11.363281 27.914062 10.972656 28.382812 C 8.925781 30.84375 7.945312 33.28125 8.238281 35.1875 C 8.289062 35.527344 8.28125 35.523438 8.917969 35.523438 C 10.941406 35.523438 13.074219 34.207031 15.136719 31.6875 C 15.359375 31.417969 15.328125 31.425781 15.5625 31.574219 C 16.292969 32.042969 18.023438 32.964844 18.175781 32.964844 C 18.335938 32.964844 19.941406 32.210938 20.828125 31.71875 C 20.996094 31.625 21.136719 31.554688 21.136719 31.558594 C 21.203125 31.664062 21.898438 32.414062 22.222656 32.730469 C 23.835938 34.300781 25.5625 35.132812 27.582031 35.300781 C 27.90625 35.328125 27.9375 35.308594 28.007812 34.984375 C 28.382812 33.242188 27.625 30.925781 25.863281 28.425781 L 25.542969 27.96875 L 25.699219 27.785156 C 28.945312 23.960938 29.132812 18.699219 26.257812 11.96875 L 26.207031 11.84375 L 27.945312 12.703125 C 31.53125 14.476562 32.316406 14.800781 33.03125 14.800781 C 33.976562 14.800781 33.78125 13.9375 32.472656 12.292969 C 28.519531 7.355469 25.394531 5.925781 21.921875 7.472656 L 21.558594 7.636719 L 21.578125 7.542969 C 21.699219 6.992188 21.761719 5.742188 21.699219 5.164062 C 21.496094 3.296875 20.664062 1.964844 19.003906 0.855469 C 18.480469 0.503906 18.457031 0.5 18.214844 0.632812\"/>\n",
              "</g>\n",
              "      </svg>\n",
              "    "
            ]
          },
          "metadata": {}
        }
      ]
    },
    {
      "cell_type": "code",
      "source": [
        "speed(11)\n",
        "penup()\n",
        "goto(350,150)\n",
        "pendown()\n",
        "color(\"yellow\")\n",
        "for i in range(18):\n",
        "    forward(17)\n",
        "    right(20)\n",
        "left(70)\n",
        "forward(50)\n",
        "right(150)\n",
        "forward(50)\n",
        "for i in range(11):\n",
        "   left(120)\n",
        "   forward(50)\n",
        "   right(150)\n",
        "   forward(50)\n",
        "penup()\n",
        "goto(500,450)\n",
        "color(156, 67, 34)\n",
        "left(50)\n",
        "pendown()\n",
        "forward(100)\n",
        "right(90)\n",
        "forward(150)\n",
        "right(90)\n",
        "forward(100)\n",
        "right(90)\n",
        "forward(150)\n",
        "penup()\n",
        "right(90)\n",
        "forward(100)\n",
        "color(105, 41, 18)\n",
        "pendown()\n",
        "left(90)\n",
        "for i in range(6):\n",
        "    forward(10)\n",
        "    right(20)\n",
        "forward(150)\n",
        "for i in range(6):\n",
        "    forward(10)\n",
        "    right(20)\n",
        "forward(150)\n",
        "for i in range(6):\n",
        "    forward(10)\n",
        "    right(20)\n",
        "penup()\n",
        "goto(600, 250)\n",
        "right(90)\n",
        "pendown()\n",
        "forward(50)\n",
        "right(90)\n",
        "forward(30)\n",
        "right(90)\n",
        "forward(50)\n",
        "penup()\n",
        "forward(150)\n",
        "right(90)\n",
        "pendown()\n",
        "forward(35)\n",
        "right(90)\n",
        "forward(35)\n",
        "right(90)\n",
        "forward(35)\n",
        "right(90)\n",
        "forward(35)\n",
        "right(90)\n",
        "forward(17)\n",
        "right(90)\n",
        "forward(35)\n",
        "right(90)\n",
        "forward(17)\n",
        "right(90)\n",
        "forward(17)\n",
        "right(90)\n",
        "forward(35)\n",
        "penup()\n",
        "forward(35)\n",
        "left(90)\n",
        "forward(17)\n",
        "right(90)\n",
        "pendown()\n",
        "forward(35)\n",
        "right(90)\n",
        "forward(35)\n",
        "right(90)\n",
        "forward(35)\n",
        "right(90)\n",
        "forward(35)\n",
        "right(90)\n",
        "forward(17)\n",
        "right(90)\n",
        "forward(35)\n",
        "right(90)\n",
        "forward(17)\n",
        "right(90)\n",
        "forward(17)\n",
        "right(90)\n",
        "forward(35)\n",
        "penup()\n",
        "forward(40)\n",
        "pendown()\n",
        "forward(100)\n",
        "left(90)\n",
        "forward(20)\n",
        "left(90)\n",
        "forward(100)\n",
        "left(90)\n",
        "forward(20)\n",
        "penup()\n",
        "left(90)\n",
        "forward(25)\n",
        "pendown()\n",
        "right(90)\n",
        "forward(20)\n",
        "left(90)\n",
        "forward(20)\n",
        "left(90)\n",
        "forward(90)\n",
        "left(90)\n",
        "forward(20)\n",
        "left(90)\n",
        "forward(70)\n",
        "penup()\n",
        "left(90)\n",
        "forward(40)\n",
        "pendown()\n",
        "right(90)\n",
        "forward(20)\n",
        "left(90)\n",
        "forward(20)\n",
        "left(90)\n",
        "forward(90)\n",
        "left(90)\n",
        "forward(20)\n",
        "left(90)\n",
        "forward(70)\n",
        "penup()\n",
        "goto(550,300)\n",
        "color(\"red\")\n",
        "left(45)\n",
        "pendown()\n",
        "forward(30)\n",
        "for i in range(6):\n",
        "    forward(5)\n",
        "    right(30)\n",
        "forward(15)\n",
        "left(90)\n",
        "forward(10)\n",
        "for i in range(6):\n",
        "    forward(5)\n",
        "    right(30)\n",
        "forward(30)\n",
        "penup()\n",
        "goto(0,450)\n",
        "left(135)\n",
        "color(\"green\")\n",
        "pendown()\n",
        "forward(800)\n",
        "penup()\n",
        "goto(150,450)\n",
        "left(90)\n",
        "pendown()\n",
        "color(74, 28, 11)\n",
        "forward(250)\n",
        "left(50)\n",
        "forward(50)\n",
        "right(90)\n",
        "forward(30)\n",
        "right(90)\n",
        "forward(50)\n",
        "left(90)\n",
        "forward(50)\n",
        "right(90)\n",
        "forward(30)\n",
        "right(90)\n",
        "forward(50)\n",
        "left(40)\n",
        "forward(250)\n",
        "penup()\n",
        "right(180)\n",
        "forward(250)\n",
        "pendown()\n",
        "color(\"green\")\n",
        "for i in range(18):\n",
        "    forward(20)\n",
        "    left(20)\n",
        "right(90)\n",
        "for i in range(18):\n",
        "    forward(20)\n",
        "    left(20)\n",
        "left(160)\n",
        "penup()\n",
        "forward(60)\n",
        "pendown()\n",
        "for i in range(18):\n",
        "    forward(20)\n",
        "    right(20)\n",
        "penup()\n",
        "goto(300,450)\n",
        "right(70)\n",
        "pendown()\n",
        "forward(100)\n",
        "left(180)\n",
        "forward(50)\n",
        "left(90)\n",
        "forward(50)\n",
        "left(180)\n",
        "forward(100)\n",
        "left(180)\n",
        "forward(50)\n",
        "left(90)\n",
        "forward(50)"
      ],
      "metadata": {
        "colab": {
          "base_uri": "https://localhost:8080/",
          "height": 521
        },
        "id": "o2-6cdPd7qds",
        "outputId": "695e9fd3-f848-4c7f-9e55-85286a242a72"
      },
      "execution_count": null,
      "outputs": [
        {
          "output_type": "display_data",
          "data": {
            "text/plain": [
              "<IPython.core.display.HTML object>"
            ],
            "text/html": [
              "\n",
              "      <svg width=\"800\" height=\"500\">\n",
              "        <rect width=\"100%\" height=\"100%\" fill=\"black\"/>\n",
              "        <line x1=\"350\" y1=\"150\" x2=\"350.0\" y2=\"133.0\" stroke-linecap=\"round\" style=\"stroke:yellow;stroke-width:4\"/><line x1=\"350.0\" y1=\"133.0\" x2=\"355.814\" y2=\"117.025\" stroke-linecap=\"round\" style=\"stroke:yellow;stroke-width:4\"/><line x1=\"355.814\" y1=\"117.025\" x2=\"366.741\" y2=\"104.002\" stroke-linecap=\"round\" style=\"stroke:yellow;stroke-width:4\"/><line x1=\"366.741\" y1=\"104.002\" x2=\"381.463\" y2=\"95.502\" stroke-linecap=\"round\" style=\"stroke:yellow;stroke-width:4\"/><line x1=\"381.463\" y1=\"95.502\" x2=\"398.205\" y2=\"92.55\" stroke-linecap=\"round\" style=\"stroke:yellow;stroke-width:4\"/><line x1=\"398.205\" y1=\"92.55\" x2=\"414.947\" y2=\"95.502\" stroke-linecap=\"round\" style=\"stroke:yellow;stroke-width:4\"/><line x1=\"414.947\" y1=\"95.502\" x2=\"429.669\" y2=\"104.002\" stroke-linecap=\"round\" style=\"stroke:yellow;stroke-width:4\"/><line x1=\"429.669\" y1=\"104.002\" x2=\"440.596\" y2=\"117.025\" stroke-linecap=\"round\" style=\"stroke:yellow;stroke-width:4\"/><line x1=\"440.596\" y1=\"117.025\" x2=\"446.41\" y2=\"133.0\" stroke-linecap=\"round\" style=\"stroke:yellow;stroke-width:4\"/><line x1=\"446.41\" y1=\"133.0\" x2=\"446.41\" y2=\"150.0\" stroke-linecap=\"round\" style=\"stroke:yellow;stroke-width:4\"/><line x1=\"446.41\" y1=\"150.0\" x2=\"440.596\" y2=\"165.975\" stroke-linecap=\"round\" style=\"stroke:yellow;stroke-width:4\"/><line x1=\"440.596\" y1=\"165.975\" x2=\"429.669\" y2=\"178.998\" stroke-linecap=\"round\" style=\"stroke:yellow;stroke-width:4\"/><line x1=\"429.669\" y1=\"178.998\" x2=\"414.947\" y2=\"187.498\" stroke-linecap=\"round\" style=\"stroke:yellow;stroke-width:4\"/><line x1=\"414.947\" y1=\"187.498\" x2=\"398.205\" y2=\"190.45\" stroke-linecap=\"round\" style=\"stroke:yellow;stroke-width:4\"/><line x1=\"398.205\" y1=\"190.45\" x2=\"381.463\" y2=\"187.498\" stroke-linecap=\"round\" style=\"stroke:yellow;stroke-width:4\"/><line x1=\"381.463\" y1=\"187.498\" x2=\"366.741\" y2=\"178.998\" stroke-linecap=\"round\" style=\"stroke:yellow;stroke-width:4\"/><line x1=\"366.741\" y1=\"178.998\" x2=\"355.814\" y2=\"165.975\" stroke-linecap=\"round\" style=\"stroke:yellow;stroke-width:4\"/><line x1=\"355.814\" y1=\"165.975\" x2=\"350.0\" y2=\"150.0\" stroke-linecap=\"round\" style=\"stroke:yellow;stroke-width:4\"/><line x1=\"350.0\" y1=\"150.0\" x2=\"303.015\" y2=\"132.899\" stroke-linecap=\"round\" style=\"stroke:yellow;stroke-width:4\"/><line x1=\"303.015\" y1=\"132.899\" x2=\"352.255\" y2=\"124.217\" stroke-linecap=\"round\" style=\"stroke:yellow;stroke-width:4\"/><line x1=\"352.255\" y1=\"124.217\" x2=\"320.116\" y2=\"85.915\" stroke-linecap=\"round\" style=\"stroke:yellow;stroke-width:4\"/><line x1=\"320.116\" y1=\"85.915\" x2=\"367.101\" y2=\"103.016\" stroke-linecap=\"round\" style=\"stroke:yellow;stroke-width:4\"/><line x1=\"367.101\" y1=\"103.016\" x2=\"358.419\" y2=\"53.776\" stroke-linecap=\"round\" style=\"stroke:yellow;stroke-width:4\"/><line x1=\"358.419\" y1=\"53.776\" x2=\"390.558\" y2=\"92.078\" stroke-linecap=\"round\" style=\"stroke:yellow;stroke-width:4\"/><line x1=\"390.558\" y1=\"92.078\" x2=\"407.659\" y2=\"45.093\" stroke-linecap=\"round\" style=\"stroke:yellow;stroke-width:4\"/><line x1=\"407.659\" y1=\"45.093\" x2=\"416.341\" y2=\"94.333\" stroke-linecap=\"round\" style=\"stroke:yellow;stroke-width:4\"/><line x1=\"416.341\" y1=\"94.333\" x2=\"454.643\" y2=\"62.194\" stroke-linecap=\"round\" style=\"stroke:yellow;stroke-width:4\"/><line x1=\"454.643\" y1=\"62.194\" x2=\"437.542\" y2=\"109.179\" stroke-linecap=\"round\" style=\"stroke:yellow;stroke-width:4\"/><line x1=\"437.542\" y1=\"109.179\" x2=\"486.782\" y2=\"100.497\" stroke-linecap=\"round\" style=\"stroke:yellow;stroke-width:4\"/><line x1=\"486.782\" y1=\"100.497\" x2=\"448.48\" y2=\"132.636\" stroke-linecap=\"round\" style=\"stroke:yellow;stroke-width:4\"/><line x1=\"448.48\" y1=\"132.636\" x2=\"495.465\" y2=\"149.737\" stroke-linecap=\"round\" style=\"stroke:yellow;stroke-width:4\"/><line x1=\"495.465\" y1=\"149.737\" x2=\"446.225\" y2=\"158.419\" stroke-linecap=\"round\" style=\"stroke:yellow;stroke-width:4\"/><line x1=\"446.225\" y1=\"158.419\" x2=\"478.364\" y2=\"196.721\" stroke-linecap=\"round\" style=\"stroke:yellow;stroke-width:4\"/><line x1=\"478.364\" y1=\"196.721\" x2=\"431.379\" y2=\"179.62\" stroke-linecap=\"round\" style=\"stroke:yellow;stroke-width:4\"/><line x1=\"431.379\" y1=\"179.62\" x2=\"440.061\" y2=\"228.86\" stroke-linecap=\"round\" style=\"stroke:yellow;stroke-width:4\"/><line x1=\"440.061\" y1=\"228.86\" x2=\"407.922\" y2=\"190.558\" stroke-linecap=\"round\" style=\"stroke:yellow;stroke-width:4\"/><line x1=\"407.922\" y1=\"190.558\" x2=\"390.821\" y2=\"237.543\" stroke-linecap=\"round\" style=\"stroke:yellow;stroke-width:4\"/><line x1=\"390.821\" y1=\"237.543\" x2=\"382.139\" y2=\"188.303\" stroke-linecap=\"round\" style=\"stroke:yellow;stroke-width:4\"/><line x1=\"382.139\" y1=\"188.303\" x2=\"343.837\" y2=\"220.442\" stroke-linecap=\"round\" style=\"stroke:yellow;stroke-width:4\"/><line x1=\"343.837\" y1=\"220.442\" x2=\"360.938\" y2=\"173.457\" stroke-linecap=\"round\" style=\"stroke:yellow;stroke-width:4\"/><line x1=\"360.938\" y1=\"173.457\" x2=\"311.698\" y2=\"182.139\" stroke-linecap=\"round\" style=\"stroke:yellow;stroke-width:4\"/><line x1=\"311.698\" y1=\"182.139\" x2=\"350.0\" y2=\"150.0\" stroke-linecap=\"round\" style=\"stroke:yellow;stroke-width:4\"/><line x1=\"500\" y1=\"450\" x2=\"500.0\" y2=\"350.0\" stroke-linecap=\"round\" style=\"stroke:rgb(156,67,34);stroke-width:4\"/><line x1=\"500.0\" y1=\"350.0\" x2=\"650.0\" y2=\"350.0\" stroke-linecap=\"round\" style=\"stroke:rgb(156,67,34);stroke-width:4\"/><line x1=\"650.0\" y1=\"350.0\" x2=\"650.0\" y2=\"450.0\" stroke-linecap=\"round\" style=\"stroke:rgb(156,67,34);stroke-width:4\"/><line x1=\"650.0\" y1=\"450.0\" x2=\"500.0\" y2=\"450.0\" stroke-linecap=\"round\" style=\"stroke:rgb(156,67,34);stroke-width:4\"/><line x1=\"500.0\" y1=\"350.0\" x2=\"490.0\" y2=\"350.0\" stroke-linecap=\"round\" style=\"stroke:rgb(105,41,18);stroke-width:4\"/><line x1=\"490.0\" y1=\"350.0\" x2=\"480.603\" y2=\"346.58\" stroke-linecap=\"round\" style=\"stroke:rgb(105,41,18);stroke-width:4\"/><line x1=\"480.603\" y1=\"346.58\" x2=\"472.943\" y2=\"340.152\" stroke-linecap=\"round\" style=\"stroke:rgb(105,41,18);stroke-width:4\"/><line x1=\"472.943\" y1=\"340.152\" x2=\"467.943\" y2=\"331.492\" stroke-linecap=\"round\" style=\"stroke:rgb(105,41,18);stroke-width:4\"/><line x1=\"467.943\" y1=\"331.492\" x2=\"466.207\" y2=\"321.644\" stroke-linecap=\"round\" style=\"stroke:rgb(105,41,18);stroke-width:4\"/><line x1=\"466.207\" y1=\"321.644\" x2=\"467.943\" y2=\"311.796\" stroke-linecap=\"round\" style=\"stroke:rgb(105,41,18);stroke-width:4\"/><line x1=\"467.943\" y1=\"311.796\" x2=\"542.943\" y2=\"181.892\" stroke-linecap=\"round\" style=\"stroke:rgb(105,41,18);stroke-width:4\"/><line x1=\"542.943\" y1=\"181.892\" x2=\"547.943\" y2=\"173.232\" stroke-linecap=\"round\" style=\"stroke:rgb(105,41,18);stroke-width:4\"/><line x1=\"547.943\" y1=\"173.232\" x2=\"555.603\" y2=\"166.804\" stroke-linecap=\"round\" style=\"stroke:rgb(105,41,18);stroke-width:4\"/><line x1=\"555.603\" y1=\"166.804\" x2=\"565.0\" y2=\"163.384\" stroke-linecap=\"round\" style=\"stroke:rgb(105,41,18);stroke-width:4\"/><line x1=\"565.0\" y1=\"163.384\" x2=\"575.0\" y2=\"163.384\" stroke-linecap=\"round\" style=\"stroke:rgb(105,41,18);stroke-width:4\"/><line x1=\"575.0\" y1=\"163.384\" x2=\"584.397\" y2=\"166.804\" stroke-linecap=\"round\" style=\"stroke:rgb(105,41,18);stroke-width:4\"/><line x1=\"584.397\" y1=\"166.804\" x2=\"592.057\" y2=\"173.232\" stroke-linecap=\"round\" style=\"stroke:rgb(105,41,18);stroke-width:4\"/><line x1=\"592.057\" y1=\"173.232\" x2=\"667.057\" y2=\"303.136\" stroke-linecap=\"round\" style=\"stroke:rgb(105,41,18);stroke-width:4\"/><line x1=\"667.057\" y1=\"303.136\" x2=\"672.057\" y2=\"311.796\" stroke-linecap=\"round\" style=\"stroke:rgb(105,41,18);stroke-width:4\"/><line x1=\"672.057\" y1=\"311.796\" x2=\"673.793\" y2=\"321.644\" stroke-linecap=\"round\" style=\"stroke:rgb(105,41,18);stroke-width:4\"/><line x1=\"673.793\" y1=\"321.644\" x2=\"672.057\" y2=\"331.492\" stroke-linecap=\"round\" style=\"stroke:rgb(105,41,18);stroke-width:4\"/><line x1=\"672.057\" y1=\"331.492\" x2=\"667.057\" y2=\"340.152\" stroke-linecap=\"round\" style=\"stroke:rgb(105,41,18);stroke-width:4\"/><line x1=\"667.057\" y1=\"340.152\" x2=\"659.397\" y2=\"346.58\" stroke-linecap=\"round\" style=\"stroke:rgb(105,41,18);stroke-width:4\"/><line x1=\"659.397\" y1=\"346.58\" x2=\"650.0\" y2=\"350.0\" stroke-linecap=\"round\" style=\"stroke:rgb(105,41,18);stroke-width:4\"/><line x1=\"600\" y1=\"250\" x2=\"600.0\" y2=\"200.0\" stroke-linecap=\"round\" style=\"stroke:rgb(105,41,18);stroke-width:4\"/><line x1=\"600.0\" y1=\"200.0\" x2=\"630.0\" y2=\"200.0\" stroke-linecap=\"round\" style=\"stroke:rgb(105,41,18);stroke-width:4\"/><line x1=\"630.0\" y1=\"200.0\" x2=\"630.0\" y2=\"250.0\" stroke-linecap=\"round\" style=\"stroke:rgb(105,41,18);stroke-width:4\"/><line x1=\"630.0\" y1=\"400.0\" x2=\"595.0\" y2=\"400.0\" stroke-linecap=\"round\" style=\"stroke:rgb(105,41,18);stroke-width:4\"/><line x1=\"595.0\" y1=\"400.0\" x2=\"595.0\" y2=\"365.0\" stroke-linecap=\"round\" style=\"stroke:rgb(105,41,18);stroke-width:4\"/><line x1=\"595.0\" y1=\"365.0\" x2=\"630.0\" y2=\"365.0\" stroke-linecap=\"round\" style=\"stroke:rgb(105,41,18);stroke-width:4\"/><line x1=\"630.0\" y1=\"365.0\" x2=\"630.0\" y2=\"400.0\" stroke-linecap=\"round\" style=\"stroke:rgb(105,41,18);stroke-width:4\"/><line x1=\"630.0\" y1=\"400.0\" x2=\"613.0\" y2=\"400.0\" stroke-linecap=\"round\" style=\"stroke:rgb(105,41,18);stroke-width:4\"/><line x1=\"613.0\" y1=\"400.0\" x2=\"613.0\" y2=\"365.0\" stroke-linecap=\"round\" style=\"stroke:rgb(105,41,18);stroke-width:4\"/><line x1=\"613.0\" y1=\"365.0\" x2=\"630.0\" y2=\"365.0\" stroke-linecap=\"round\" style=\"stroke:rgb(105,41,18);stroke-width:4\"/><line x1=\"630.0\" y1=\"365.0\" x2=\"630.0\" y2=\"382.0\" stroke-linecap=\"round\" style=\"stroke:rgb(105,41,18);stroke-width:4\"/><line x1=\"630.0\" y1=\"382.0\" x2=\"595.0\" y2=\"382.0\" stroke-linecap=\"round\" style=\"stroke:rgb(105,41,18);stroke-width:4\"/><line x1=\"560.0\" y1=\"399.0\" x2=\"525.0\" y2=\"399.0\" stroke-linecap=\"round\" style=\"stroke:rgb(105,41,18);stroke-width:4\"/><line x1=\"525.0\" y1=\"399.0\" x2=\"525.0\" y2=\"364.0\" stroke-linecap=\"round\" style=\"stroke:rgb(105,41,18);stroke-width:4\"/><line x1=\"525.0\" y1=\"364.0\" x2=\"560.0\" y2=\"364.0\" stroke-linecap=\"round\" style=\"stroke:rgb(105,41,18);stroke-width:4\"/><line x1=\"560.0\" y1=\"364.0\" x2=\"560.0\" y2=\"399.0\" stroke-linecap=\"round\" style=\"stroke:rgb(105,41,18);stroke-width:4\"/><line x1=\"560.0\" y1=\"399.0\" x2=\"543.0\" y2=\"399.0\" stroke-linecap=\"round\" style=\"stroke:rgb(105,41,18);stroke-width:4\"/><line x1=\"543.0\" y1=\"399.0\" x2=\"543.0\" y2=\"364.0\" stroke-linecap=\"round\" style=\"stroke:rgb(105,41,18);stroke-width:4\"/><line x1=\"543.0\" y1=\"364.0\" x2=\"560.0\" y2=\"364.0\" stroke-linecap=\"round\" style=\"stroke:rgb(105,41,18);stroke-width:4\"/><line x1=\"560.0\" y1=\"364.0\" x2=\"560.0\" y2=\"381.0\" stroke-linecap=\"round\" style=\"stroke:rgb(105,41,18);stroke-width:4\"/><line x1=\"560.0\" y1=\"381.0\" x2=\"525.0\" y2=\"381.0\" stroke-linecap=\"round\" style=\"stroke:rgb(105,41,18);stroke-width:4\"/><line x1=\"485.0\" y1=\"381.0\" x2=\"385.0\" y2=\"381.0\" stroke-linecap=\"round\" style=\"stroke:rgb(105,41,18);stroke-width:4\"/><line x1=\"385.0\" y1=\"381.0\" x2=\"385.0\" y2=\"401.0\" stroke-linecap=\"round\" style=\"stroke:rgb(105,41,18);stroke-width:4\"/><line x1=\"385.0\" y1=\"401.0\" x2=\"485.0\" y2=\"401.0\" stroke-linecap=\"round\" style=\"stroke:rgb(105,41,18);stroke-width:4\"/><line x1=\"485.0\" y1=\"401.0\" x2=\"485.0\" y2=\"381.0\" stroke-linecap=\"round\" style=\"stroke:rgb(105,41,18);stroke-width:4\"/><line x1=\"460.0\" y1=\"381.0\" x2=\"460.0\" y2=\"361.0\" stroke-linecap=\"round\" style=\"stroke:rgb(105,41,18);stroke-width:4\"/><line x1=\"460.0\" y1=\"361.0\" x2=\"440.0\" y2=\"361.0\" stroke-linecap=\"round\" style=\"stroke:rgb(105,41,18);stroke-width:4\"/><line x1=\"440.0\" y1=\"361.0\" x2=\"440.0\" y2=\"451.0\" stroke-linecap=\"round\" style=\"stroke:rgb(105,41,18);stroke-width:4\"/><line x1=\"440.0\" y1=\"451.0\" x2=\"460.0\" y2=\"451.0\" stroke-linecap=\"round\" style=\"stroke:rgb(105,41,18);stroke-width:4\"/><line x1=\"460.0\" y1=\"451.0\" x2=\"460.0\" y2=\"381.0\" stroke-linecap=\"round\" style=\"stroke:rgb(105,41,18);stroke-width:4\"/><line x1=\"420.0\" y1=\"381.0\" x2=\"420.0\" y2=\"361.0\" stroke-linecap=\"round\" style=\"stroke:rgb(105,41,18);stroke-width:4\"/><line x1=\"420.0\" y1=\"361.0\" x2=\"400.0\" y2=\"361.0\" stroke-linecap=\"round\" style=\"stroke:rgb(105,41,18);stroke-width:4\"/><line x1=\"400.0\" y1=\"361.0\" x2=\"400.0\" y2=\"451.0\" stroke-linecap=\"round\" style=\"stroke:rgb(105,41,18);stroke-width:4\"/><line x1=\"400.0\" y1=\"451.0\" x2=\"420.0\" y2=\"451.0\" stroke-linecap=\"round\" style=\"stroke:rgb(105,41,18);stroke-width:4\"/><line x1=\"420.0\" y1=\"451.0\" x2=\"420.0\" y2=\"381.0\" stroke-linecap=\"round\" style=\"stroke:rgb(105,41,18);stroke-width:4\"/><line x1=\"550\" y1=\"300\" x2=\"528.787\" y2=\"278.787\" stroke-linecap=\"round\" style=\"stroke:red;stroke-width:4\"/><line x1=\"528.787\" y1=\"278.787\" x2=\"525.251\" y2=\"275.251\" stroke-linecap=\"round\" style=\"stroke:red;stroke-width:4\"/><line x1=\"525.251\" y1=\"275.251\" x2=\"523.957\" y2=\"270.421\" stroke-linecap=\"round\" style=\"stroke:red;stroke-width:4\"/><line x1=\"523.957\" y1=\"270.421\" x2=\"525.251\" y2=\"265.591\" stroke-linecap=\"round\" style=\"stroke:red;stroke-width:4\"/><line x1=\"525.251\" y1=\"265.591\" x2=\"528.787\" y2=\"262.055\" stroke-linecap=\"round\" style=\"stroke:red;stroke-width:4\"/><line x1=\"528.787\" y1=\"262.055\" x2=\"533.617\" y2=\"260.761\" stroke-linecap=\"round\" style=\"stroke:red;stroke-width:4\"/><line x1=\"533.617\" y1=\"260.761\" x2=\"538.447\" y2=\"262.055\" stroke-linecap=\"round\" style=\"stroke:red;stroke-width:4\"/><line x1=\"538.447\" y1=\"262.055\" x2=\"549.054\" y2=\"272.662\" stroke-linecap=\"round\" style=\"stroke:red;stroke-width:4\"/><line x1=\"549.054\" y1=\"272.662\" x2=\"556.125\" y2=\"265.591\" stroke-linecap=\"round\" style=\"stroke:red;stroke-width:4\"/><line x1=\"556.125\" y1=\"265.591\" x2=\"559.661\" y2=\"262.055\" stroke-linecap=\"round\" style=\"stroke:red;stroke-width:4\"/><line x1=\"559.661\" y1=\"262.055\" x2=\"564.491\" y2=\"260.761\" stroke-linecap=\"round\" style=\"stroke:red;stroke-width:4\"/><line x1=\"564.491\" y1=\"260.761\" x2=\"569.321\" y2=\"262.055\" stroke-linecap=\"round\" style=\"stroke:red;stroke-width:4\"/><line x1=\"569.321\" y1=\"262.055\" x2=\"572.857\" y2=\"265.591\" stroke-linecap=\"round\" style=\"stroke:red;stroke-width:4\"/><line x1=\"572.857\" y1=\"265.591\" x2=\"574.151\" y2=\"270.421\" stroke-linecap=\"round\" style=\"stroke:red;stroke-width:4\"/><line x1=\"574.151\" y1=\"270.421\" x2=\"572.857\" y2=\"275.251\" stroke-linecap=\"round\" style=\"stroke:red;stroke-width:4\"/><line x1=\"572.857\" y1=\"275.251\" x2=\"551.644\" y2=\"296.464\" stroke-linecap=\"round\" style=\"stroke:red;stroke-width:4\"/><line x1=\"0\" y1=\"450\" x2=\"800.0\" y2=\"450.0\" stroke-linecap=\"round\" style=\"stroke:green;stroke-width:4\"/><line x1=\"150\" y1=\"450\" x2=\"150.0\" y2=\"200.0\" stroke-linecap=\"round\" style=\"stroke:rgb(74,28,11);stroke-width:4\"/><line x1=\"150.0\" y1=\"200.0\" x2=\"111.698\" y2=\"167.861\" stroke-linecap=\"round\" style=\"stroke:rgb(74,28,11);stroke-width:4\"/><line x1=\"111.698\" y1=\"167.861\" x2=\"130.982\" y2=\"144.88\" stroke-linecap=\"round\" style=\"stroke:rgb(74,28,11);stroke-width:4\"/><line x1=\"130.982\" y1=\"144.88\" x2=\"169.284\" y2=\"177.019\" stroke-linecap=\"round\" style=\"stroke:rgb(74,28,11);stroke-width:4\"/><line x1=\"169.284\" y1=\"177.019\" x2=\"201.423\" y2=\"138.717\" stroke-linecap=\"round\" style=\"stroke:rgb(74,28,11);stroke-width:4\"/><line x1=\"201.423\" y1=\"138.717\" x2=\"224.404\" y2=\"158.001\" stroke-linecap=\"round\" style=\"stroke:rgb(74,28,11);stroke-width:4\"/><line x1=\"224.404\" y1=\"158.001\" x2=\"192.265\" y2=\"196.303\" stroke-linecap=\"round\" style=\"stroke:rgb(74,28,11);stroke-width:4\"/><line x1=\"192.265\" y1=\"196.303\" x2=\"192.265\" y2=\"446.303\" stroke-linecap=\"round\" style=\"stroke:rgb(74,28,11);stroke-width:4\"/><line x1=\"192.265\" y1=\"196.303\" x2=\"192.265\" y2=\"176.303\" stroke-linecap=\"round\" style=\"stroke:green;stroke-width:4\"/><line x1=\"192.265\" y1=\"176.303\" x2=\"185.425\" y2=\"157.509\" stroke-linecap=\"round\" style=\"stroke:green;stroke-width:4\"/><line x1=\"185.425\" y1=\"157.509\" x2=\"172.569\" y2=\"142.188\" stroke-linecap=\"round\" style=\"stroke:green;stroke-width:4\"/><line x1=\"172.569\" y1=\"142.188\" x2=\"155.248\" y2=\"132.188\" stroke-linecap=\"round\" style=\"stroke:green;stroke-width:4\"/><line x1=\"155.248\" y1=\"132.188\" x2=\"135.552\" y2=\"128.715\" stroke-linecap=\"round\" style=\"stroke:green;stroke-width:4\"/><line x1=\"135.552\" y1=\"128.715\" x2=\"115.856\" y2=\"132.188\" stroke-linecap=\"round\" style=\"stroke:green;stroke-width:4\"/><line x1=\"115.856\" y1=\"132.188\" x2=\"98.535\" y2=\"142.188\" stroke-linecap=\"round\" style=\"stroke:green;stroke-width:4\"/><line x1=\"98.535\" y1=\"142.188\" x2=\"85.679\" y2=\"157.509\" stroke-linecap=\"round\" style=\"stroke:green;stroke-width:4\"/><line x1=\"85.679\" y1=\"157.509\" x2=\"78.839\" y2=\"176.303\" stroke-linecap=\"round\" style=\"stroke:green;stroke-width:4\"/><line x1=\"78.839\" y1=\"176.303\" x2=\"78.839\" y2=\"196.303\" stroke-linecap=\"round\" style=\"stroke:green;stroke-width:4\"/><line x1=\"78.839\" y1=\"196.303\" x2=\"85.679\" y2=\"215.097\" stroke-linecap=\"round\" style=\"stroke:green;stroke-width:4\"/><line x1=\"85.679\" y1=\"215.097\" x2=\"98.535\" y2=\"230.418\" stroke-linecap=\"round\" style=\"stroke:green;stroke-width:4\"/><line x1=\"98.535\" y1=\"230.418\" x2=\"115.856\" y2=\"240.418\" stroke-linecap=\"round\" style=\"stroke:green;stroke-width:4\"/><line x1=\"115.856\" y1=\"240.418\" x2=\"135.552\" y2=\"243.891\" stroke-linecap=\"round\" style=\"stroke:green;stroke-width:4\"/><line x1=\"135.552\" y1=\"243.891\" x2=\"155.248\" y2=\"240.418\" stroke-linecap=\"round\" style=\"stroke:green;stroke-width:4\"/><line x1=\"155.248\" y1=\"240.418\" x2=\"172.569\" y2=\"230.418\" stroke-linecap=\"round\" style=\"stroke:green;stroke-width:4\"/><line x1=\"172.569\" y1=\"230.418\" x2=\"185.425\" y2=\"215.097\" stroke-linecap=\"round\" style=\"stroke:green;stroke-width:4\"/><line x1=\"185.425\" y1=\"215.097\" x2=\"192.265\" y2=\"196.303\" stroke-linecap=\"round\" style=\"stroke:green;stroke-width:4\"/><line x1=\"192.265\" y1=\"196.303\" x2=\"212.265\" y2=\"196.303\" stroke-linecap=\"round\" style=\"stroke:green;stroke-width:4\"/><line x1=\"212.265\" y1=\"196.303\" x2=\"231.059\" y2=\"189.463\" stroke-linecap=\"round\" style=\"stroke:green;stroke-width:4\"/><line x1=\"231.059\" y1=\"189.463\" x2=\"246.38\" y2=\"176.607\" stroke-linecap=\"round\" style=\"stroke:green;stroke-width:4\"/><line x1=\"246.38\" y1=\"176.607\" x2=\"256.38\" y2=\"159.286\" stroke-linecap=\"round\" style=\"stroke:green;stroke-width:4\"/><line x1=\"256.38\" y1=\"159.286\" x2=\"259.853\" y2=\"139.59\" stroke-linecap=\"round\" style=\"stroke:green;stroke-width:4\"/><line x1=\"259.853\" y1=\"139.59\" x2=\"256.38\" y2=\"119.894\" stroke-linecap=\"round\" style=\"stroke:green;stroke-width:4\"/><line x1=\"256.38\" y1=\"119.894\" x2=\"246.38\" y2=\"102.573\" stroke-linecap=\"round\" style=\"stroke:green;stroke-width:4\"/><line x1=\"246.38\" y1=\"102.573\" x2=\"231.059\" y2=\"89.717\" stroke-linecap=\"round\" style=\"stroke:green;stroke-width:4\"/><line x1=\"231.059\" y1=\"89.717\" x2=\"212.265\" y2=\"82.877\" stroke-linecap=\"round\" style=\"stroke:green;stroke-width:4\"/><line x1=\"212.265\" y1=\"82.877\" x2=\"192.265\" y2=\"82.877\" stroke-linecap=\"round\" style=\"stroke:green;stroke-width:4\"/><line x1=\"192.265\" y1=\"82.877\" x2=\"173.471\" y2=\"89.717\" stroke-linecap=\"round\" style=\"stroke:green;stroke-width:4\"/><line x1=\"173.471\" y1=\"89.717\" x2=\"158.15\" y2=\"102.573\" stroke-linecap=\"round\" style=\"stroke:green;stroke-width:4\"/><line x1=\"158.15\" y1=\"102.573\" x2=\"148.15\" y2=\"119.894\" stroke-linecap=\"round\" style=\"stroke:green;stroke-width:4\"/><line x1=\"148.15\" y1=\"119.894\" x2=\"144.677\" y2=\"139.59\" stroke-linecap=\"round\" style=\"stroke:green;stroke-width:4\"/><line x1=\"144.677\" y1=\"139.59\" x2=\"148.15\" y2=\"159.286\" stroke-linecap=\"round\" style=\"stroke:green;stroke-width:4\"/><line x1=\"148.15\" y1=\"159.286\" x2=\"158.15\" y2=\"176.607\" stroke-linecap=\"round\" style=\"stroke:green;stroke-width:4\"/><line x1=\"158.15\" y1=\"176.607\" x2=\"173.471\" y2=\"189.463\" stroke-linecap=\"round\" style=\"stroke:green;stroke-width:4\"/><line x1=\"173.471\" y1=\"189.463\" x2=\"192.265\" y2=\"196.303\" stroke-linecap=\"round\" style=\"stroke:green;stroke-width:4\"/><line x1=\"135.883\" y1=\"175.782\" x2=\"117.089\" y2=\"168.942\" stroke-linecap=\"round\" style=\"stroke:green;stroke-width:4\"/><line x1=\"117.089\" y1=\"168.942\" x2=\"101.768\" y2=\"156.086\" stroke-linecap=\"round\" style=\"stroke:green;stroke-width:4\"/><line x1=\"101.768\" y1=\"156.086\" x2=\"91.768\" y2=\"138.765\" stroke-linecap=\"round\" style=\"stroke:green;stroke-width:4\"/><line x1=\"91.768\" y1=\"138.765\" x2=\"88.295\" y2=\"119.069\" stroke-linecap=\"round\" style=\"stroke:green;stroke-width:4\"/><line x1=\"88.295\" y1=\"119.069\" x2=\"91.768\" y2=\"99.373\" stroke-linecap=\"round\" style=\"stroke:green;stroke-width:4\"/><line x1=\"91.768\" y1=\"99.373\" x2=\"101.768\" y2=\"82.052\" stroke-linecap=\"round\" style=\"stroke:green;stroke-width:4\"/><line x1=\"101.768\" y1=\"82.052\" x2=\"117.089\" y2=\"69.196\" stroke-linecap=\"round\" style=\"stroke:green;stroke-width:4\"/><line x1=\"117.089\" y1=\"69.196\" x2=\"135.883\" y2=\"62.356\" stroke-linecap=\"round\" style=\"stroke:green;stroke-width:4\"/><line x1=\"135.883\" y1=\"62.356\" x2=\"155.883\" y2=\"62.356\" stroke-linecap=\"round\" style=\"stroke:green;stroke-width:4\"/><line x1=\"155.883\" y1=\"62.356\" x2=\"174.677\" y2=\"69.196\" stroke-linecap=\"round\" style=\"stroke:green;stroke-width:4\"/><line x1=\"174.677\" y1=\"69.196\" x2=\"189.998\" y2=\"82.052\" stroke-linecap=\"round\" style=\"stroke:green;stroke-width:4\"/><line x1=\"189.998\" y1=\"82.052\" x2=\"199.998\" y2=\"99.373\" stroke-linecap=\"round\" style=\"stroke:green;stroke-width:4\"/><line x1=\"199.998\" y1=\"99.373\" x2=\"203.471\" y2=\"119.069\" stroke-linecap=\"round\" style=\"stroke:green;stroke-width:4\"/><line x1=\"203.471\" y1=\"119.069\" x2=\"199.998\" y2=\"138.765\" stroke-linecap=\"round\" style=\"stroke:green;stroke-width:4\"/><line x1=\"199.998\" y1=\"138.765\" x2=\"189.998\" y2=\"156.086\" stroke-linecap=\"round\" style=\"stroke:green;stroke-width:4\"/><line x1=\"189.998\" y1=\"156.086\" x2=\"174.677\" y2=\"168.942\" stroke-linecap=\"round\" style=\"stroke:green;stroke-width:4\"/><line x1=\"174.677\" y1=\"168.942\" x2=\"155.883\" y2=\"175.782\" stroke-linecap=\"round\" style=\"stroke:green;stroke-width:4\"/><line x1=\"155.883\" y1=\"175.782\" x2=\"135.883\" y2=\"175.782\" stroke-linecap=\"round\" style=\"stroke:green;stroke-width:4\"/><line x1=\"250\" y1=\"450\" x2=\"250.0\" y2=\"350.0\" stroke-linecap=\"round\" style=\"stroke:green;stroke-width:4\"/><line x1=\"250.0\" y1=\"350.0\" x2=\"250.0\" y2=\"400.0\" stroke-linecap=\"round\" style=\"stroke:green;stroke-width:4\"/><line x1=\"250.0\" y1=\"400.0\" x2=\"300.0\" y2=\"400.0\" stroke-linecap=\"round\" style=\"stroke:green;stroke-width:4\"/><line x1=\"300.0\" y1=\"400.0\" x2=\"200.0\" y2=\"400.0\" stroke-linecap=\"round\" style=\"stroke:green;stroke-width:4\"/><line x1=\"200.0\" y1=\"400.0\" x2=\"250.0\" y2=\"400.0\" stroke-linecap=\"round\" style=\"stroke:green;stroke-width:4\"/><line x1=\"250.0\" y1=\"400.0\" x2=\"250.0\" y2=\"350.0\" stroke-linecap=\"round\" style=\"stroke:green;stroke-width:4\"/>\n",
              "        <g visibility=visible transform=\"rotate(360,250.0,350.0) translate(232.0, 332.0)\">\n",
              "<path style=\" stroke:none;fill-rule:evenodd;fill:green;fill-opacity:1;\" d=\"M 18.214844 0.632812 C 16.109375 1.800781 15.011719 4.074219 15.074219 7.132812 L 15.085938 7.652344 L 14.785156 7.496094 C 13.476562 6.824219 11.957031 6.671875 10.40625 7.066406 C 8.46875 7.550781 6.515625 9.15625 4.394531 11.992188 C 3.0625 13.777344 2.679688 14.636719 3.042969 15.027344 L 3.15625 15.152344 L 3.519531 15.152344 C 4.238281 15.152344 4.828125 14.886719 8.1875 13.039062 C 9.386719 12.378906 10.371094 11.839844 10.378906 11.839844 C 10.386719 11.839844 10.355469 11.929688 10.304688 12.035156 C 9.832031 13.09375 9.257812 14.820312 8.96875 16.078125 C 7.914062 20.652344 8.617188 24.53125 11.070312 27.660156 C 11.351562 28.015625 11.363281 27.914062 10.972656 28.382812 C 8.925781 30.84375 7.945312 33.28125 8.238281 35.1875 C 8.289062 35.527344 8.28125 35.523438 8.917969 35.523438 C 10.941406 35.523438 13.074219 34.207031 15.136719 31.6875 C 15.359375 31.417969 15.328125 31.425781 15.5625 31.574219 C 16.292969 32.042969 18.023438 32.964844 18.175781 32.964844 C 18.335938 32.964844 19.941406 32.210938 20.828125 31.71875 C 20.996094 31.625 21.136719 31.554688 21.136719 31.558594 C 21.203125 31.664062 21.898438 32.414062 22.222656 32.730469 C 23.835938 34.300781 25.5625 35.132812 27.582031 35.300781 C 27.90625 35.328125 27.9375 35.308594 28.007812 34.984375 C 28.382812 33.242188 27.625 30.925781 25.863281 28.425781 L 25.542969 27.96875 L 25.699219 27.785156 C 28.945312 23.960938 29.132812 18.699219 26.257812 11.96875 L 26.207031 11.84375 L 27.945312 12.703125 C 31.53125 14.476562 32.316406 14.800781 33.03125 14.800781 C 33.976562 14.800781 33.78125 13.9375 32.472656 12.292969 C 28.519531 7.355469 25.394531 5.925781 21.921875 7.472656 L 21.558594 7.636719 L 21.578125 7.542969 C 21.699219 6.992188 21.761719 5.742188 21.699219 5.164062 C 21.496094 3.296875 20.664062 1.964844 19.003906 0.855469 C 18.480469 0.503906 18.457031 0.5 18.214844 0.632812\"/>\n",
              "</g>\n",
              "      </svg>\n",
              "    "
            ]
          },
          "metadata": {}
        }
      ]
    }
  ]
}